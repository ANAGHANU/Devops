{
 "cells": [
  {
   "cell_type": "code",
   "execution_count": 2,
   "id": "e200ea3d",
   "metadata": {},
   "outputs": [
    {
     "name": "stdout",
     "output_type": "stream",
     "text": [
      "╒═══╤═══════╤═════════════╤════════╤═════╤═══════════╕\n",
      "│ 0 │ Name  │ Employee-ID │ Salary │ Age │ State     │\n",
      "├───┼───────┼─────────────┼────────┼─────┼───────────┤\n",
      "│ 1 │ Mike  │ 01          │ 20000  │ 23  │ Karnataka │\n",
      "├───┼───────┼─────────────┼────────┼─────┼───────────┤\n",
      "│ 2 │ John  │ 02          │ 25000  │ 26  │ Karnataka │\n",
      "├───┼───────┼─────────────┼────────┼─────┼───────────┤\n",
      "│ 3 │ Sam   │ 03          │ 20000  │ 22  │ TamilNadu │\n",
      "├───┼───────┼─────────────┼────────┼─────┼───────────┤\n",
      "│ 4 │ Amal  │ 04          │ 20000  │ 21  │ Kerala    │\n",
      "├───┼───────┼─────────────┼────────┼─────┼───────────┤\n",
      "│ 5 │ Anagh │ 05          │ 25000  │ 21  │ Kerala    │\n",
      "├───┼───────┼─────────────┼────────┼─────┼───────────┤\n",
      "│ 6 │ Abin  │ 06          │ 20000  │ 20  │ Karnataka │\n",
      "├───┼───────┼─────────────┼────────┼─────┼───────────┤\n",
      "│ 7 │ Albin │ 07          │ 22000  │ 24  │ Karnataka │\n",
      "├───┼───────┼─────────────┼────────┼─────┼───────────┤\n",
      "│ 8 │ Mike  │ 08          │ 25000  │ 26  │ Karnataka │\n",
      "╘═══╧═══════╧═════════════╧════════╧═════╧═══════════╛\n"
     ]
    }
   ],
   "source": [
    "import pandas as pd\n",
    "from tabulate import tabulate\n",
    "\n",
    "file=open('Book1.txt','r')\n",
    "table=[]\n",
    "for line in file:\n",
    "    listStrip=line.strip()\n",
    "    listSplit=listStrip.split()\n",
    "    table.append(listSplit)\n",
    "print(tabulate(table, tablefmt=\"fancy_grid\",showindex=\"always\"))"
   ]
  },
  {
   "cell_type": "code",
   "execution_count": null,
   "id": "c8c0690e",
   "metadata": {},
   "outputs": [],
   "source": []
  }
 ],
 "metadata": {
  "kernelspec": {
   "display_name": "Python 3 (ipykernel)",
   "language": "python",
   "name": "python3"
  },
  "language_info": {
   "codemirror_mode": {
    "name": "ipython",
    "version": 3
   },
   "file_extension": ".py",
   "mimetype": "text/x-python",
   "name": "python",
   "nbconvert_exporter": "python",
   "pygments_lexer": "ipython3",
   "version": "3.10.8"
  }
 },
 "nbformat": 4,
 "nbformat_minor": 5
}
